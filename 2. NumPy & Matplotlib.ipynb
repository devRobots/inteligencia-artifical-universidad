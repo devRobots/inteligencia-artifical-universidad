{
 "cells": [
  {
   "cell_type": "markdown",
   "metadata": {},
   "source": [
    "# Numpy\n",
    "\n",
    "Libreria de Python que permite el manejo de arreglo y matrices"
   ]
  },
  {
   "cell_type": "markdown",
   "metadata": {},
   "source": [
    "### 1. Introduccion\n",
    "\n",
    "**Aclaracion:** Es buena practica utilizar minuscula para los arreglos y mayuscula para las matrices "
   ]
  },
  {
   "cell_type": "code",
   "execution_count": 1,
   "metadata": {},
   "outputs": [],
   "source": [
    "import numpy as np                   # Importacion de Numpy con el alias \"np\""
   ]
  },
  {
   "cell_type": "code",
   "execution_count": 2,
   "metadata": {
    "scrolled": true
   },
   "outputs": [
    {
     "name": "stdout",
     "output_type": "stream",
     "text": [
      "<class 'list'>\n",
      "<class 'numpy.ndarray'>\n",
      "[[1 2 3 4]\n",
      " [1 2 3 4]]\n",
      "2 4\n",
      "8\n",
      "2\n"
     ]
    }
   ],
   "source": [
    "a1 = [1,2,3,4]                       # Arreglo Python\n",
    "a2 = np.array([1,2,3,4])             # Arreglo Numpy\n",
    "\n",
    "print(type(a1))\n",
    "print(type(a2))\n",
    "\n",
    "M1 = np.array([[1,2,3,4],[1,2,3,4]]) # Matriz Numpy\n",
    "print(M1)\n",
    "\n",
    "x,_ = M1.shape                       # Forma de la matriz (Tupla)\n",
    "print(x,_)\n",
    "\n",
    "print(M1.size)                       # Cantidad de elementos de la matriz\n",
    "print(len(M1))                       # Cantidad de filas de la matriz (\"Tamaño\")"
   ]
  },
  {
   "cell_type": "code",
   "execution_count": 3,
   "metadata": {},
   "outputs": [
    {
     "name": "stdout",
     "output_type": "stream",
     "text": [
      "[[1. 1. 1.]\n",
      " [1. 1. 1.]\n",
      " [1. 1. 1.]]\n",
      "[[1. 1. 1.]\n",
      " [1. 1. 1.]\n",
      " [1. 1. 1.]]\n",
      "[[1. 0. 0.]\n",
      " [0. 1. 0.]\n",
      " [0. 0. 1.]]\n",
      "[[0. 1. 0.]\n",
      " [0. 0. 1.]\n",
      " [0. 0. 0.]]\n"
     ]
    }
   ],
   "source": [
    "M2 = np.zeros((3,3))                 # Matriz de ceros\n",
    "M2 += 1                              # Matriz de ceros ahora con unos\n",
    "print(M2)\n",
    "\n",
    "M2 = np.ones((3,3))                  # Matriz de unos\n",
    "print(M2)\n",
    "\n",
    "I1 = np.identity(3)                  # Matriz identidad\n",
    "print(I1)\n",
    "\n",
    "I2 = np.eye(3, k = 1)\n",
    "print(I2)"
   ]
  },
  {
   "cell_type": "code",
   "execution_count": 4,
   "metadata": {},
   "outputs": [
    {
     "name": "stdout",
     "output_type": "stream",
     "text": [
      "[ 1  3  5  7  9 11 13 15 17 19]\n",
      "[0.   0.25 0.5  0.75 1.  ]\n",
      "[      0       1       2 ... 9999997 9999998 9999999]\n"
     ]
    }
   ],
   "source": [
    "a3 = np.arange(1, 20, 2)             # Arreglo en un rango (En este caso del 1 al 20 de 2 en 2)\n",
    "print(a3)\n",
    "\n",
    "a4 = np.linspace(0, 1, 5)            # Arreglo con 5 valores que van del 0 y el 1 \n",
    "print(a4)\n",
    "\n",
    "a5 = np.arange(10000000)             # Comportamiento perezoso\n",
    "print(a5)"
   ]
  },
  {
   "cell_type": "markdown",
   "metadata": {},
   "source": [
    "### 2. Operaciones"
   ]
  },
  {
   "cell_type": "code",
   "execution_count": 5,
   "metadata": {},
   "outputs": [
    {
     "name": "stdout",
     "output_type": "stream",
     "text": [
      "[[2. 2. 2. 2.]\n",
      " [2. 2. 2. 2.]\n",
      " [2. 2. 2. 2.]]\n",
      "[[0. 0. 0. 0.]\n",
      " [0. 0. 0. 0.]\n",
      " [0. 0. 0. 0.]]\n",
      "[[1. 1. 1. 1.]\n",
      " [1. 1. 1. 1.]\n",
      " [1. 1. 1. 1.]]\n",
      "[[1. 1. 1. 1.]\n",
      " [1. 1. 1. 1.]\n",
      " [1. 1. 1. 1.]]\n",
      "[[4. 4. 4.]\n",
      " [4. 4. 4.]\n",
      " [4. 4. 4.]]\n",
      "[[4. 4. 4.]\n",
      " [4. 4. 4.]\n",
      " [4. 4. 4.]]\n"
     ]
    }
   ],
   "source": [
    "A = np.ones((3, 4))\n",
    "B = np.ones((4, 3))\n",
    "\n",
    "print(A + B.T)                      # Imprime la suma de la matriz A y B Transpuesta\n",
    "print(A - B.T)                      # Imprime la resta de la matriz A y B Transpuesta\n",
    "print(A * B.T)                      # Imprime la multiplicacion (Normal) de la matriz A y B Transpuesta\n",
    "print(A / B.T)                      # Imprime la division (Normal) de la matriz A y B Transpuesta\n",
    "\n",
    "print(A.dot(B))                     # Producto punto de matrices A y B\n",
    "print(A @ B)                        # Producto punto de matrices A y B"
   ]
  },
  {
   "cell_type": "code",
   "execution_count": 44,
   "metadata": {},
   "outputs": [
    {
     "name": "stdout",
     "output_type": "stream",
     "text": [
      "[ 0.          1.84147098  4.90929743  9.14112001 15.2431975  24.04107573\n",
      " 35.7205845  49.6569866  64.98935825 81.41211849]\n"
     ]
    }
   ],
   "source": [
    "x = np.arange(10)\n",
    "y = x ** 2 + np.sin(x)              # Funciones aplicadas a arreglos\n",
    "\n",
    "print(y)"
   ]
  },
  {
   "cell_type": "code",
   "execution_count": 6,
   "metadata": {},
   "outputs": [
    {
     "name": "stdout",
     "output_type": "stream",
     "text": [
      "[[0.8768977  0.13109784 0.34999343 0.80952348]\n",
      " [0.74264183 0.00527264 0.90637458 0.59204723]\n",
      " [0.77945578 0.98478651 0.55235218 0.51728299]]\n",
      "[[8. 1. 3. 8.]\n",
      " [7. 0. 9. 5.]\n",
      " [7. 9. 5. 5.]]\n",
      "[[ True False False  True]\n",
      " [ True False  True False]\n",
      " [ True  True False False]]\n",
      "[[1. 0. 0. 1.]\n",
      " [1. 0. 1. 0.]\n",
      " [1. 1. 0. 0.]]\n"
     ]
    }
   ],
   "source": [
    "M4 = np.random.random((3,4))        # Matriz de probabilidades\n",
    "print(M4)\n",
    "\n",
    "M4 = M4 * 10 // 1                   # Matriz con valores enteros\n",
    "print(M4)\n",
    "\n",
    "print(M4 > 5)                       # Imprime que valores cumplen la condicion\n",
    "\n",
    "M4[M4 <= 5] = 0                     # Define un umbral en la matriz\n",
    "M4[M4 > 5] = 1                      # Define un umbral en la matriz\n",
    "print(M4)"
   ]
  },
  {
   "cell_type": "code",
   "execution_count": 7,
   "metadata": {},
   "outputs": [
    {
     "name": "stdout",
     "output_type": "stream",
     "text": [
      "[[6. 6. 8. 7.]\n",
      " [4. 0. 6. 9.]\n",
      " [3. 1. 7. 5.]]\n",
      "[[0. 6. 9.]\n",
      " [1. 7. 5.]]\n"
     ]
    }
   ],
   "source": [
    "M5 = np.random.random((3,4)) * 10 // 1\n",
    "\n",
    "print(M5)\n",
    "print(M5[1:, 1:])                   # Recorta la matriz 3x4 a 2x3 eliminando la primera fila y columna"
   ]
  },
  {
   "cell_type": "markdown",
   "metadata": {},
   "source": [
    "# Matplotlib\n",
    "\n",
    "Libreria de Python que permite el uso de graficas de funciones"
   ]
  },
  {
   "cell_type": "code",
   "execution_count": 8,
   "metadata": {},
   "outputs": [],
   "source": [
    "from matplotlib import pyplot as plt"
   ]
  },
  {
   "cell_type": "code",
   "execution_count": 9,
   "metadata": {},
   "outputs": [
    {
     "data": {
      "image/png": "[encoded data removed]",
      "text/plain": [
       "<Figure size 432x288 with 1 Axes>"
      ]
     },
     "metadata": {
      "needs_background": "light"
     },
     "output_type": "display_data"
    }
   ],
   "source": [
    "x = np.linspace(0, 1, 10)\n",
    "y = np.sin(x)\n",
    "y2 = np.cos(x)\n",
    "\n",
    "plt.title(\"Prueba matplotlib\")       # Asigna un titulo a la grafica\n",
    "\n",
    "plt.plot(x, y, \"r\")                  # Asigna los valores de los ejes en la grafica\n",
    "plt.plot(x, y2, \"--\")                # Asigna los valores de otra funcion (Y la grafica punteada)\n",
    "\n",
    "plt.legend([\"F1\", \"F2\"])             # Asigna los nombres de las funciones\n",
    "\n",
    "plt.xlabel(\"Eje X\")                  # Asigna el nombre del eje X\n",
    "plt.xlabel(\"Eje Y\")                  # Asigna el nombre del eje Y\n",
    "\n",
    "plt.show()                           # Muestra la grafica"
   ]
  }
 ],
 "metadata": {
  "kernelspec": {
   "display_name": "Python 3",
   "language": "python",
   "name": "python3"
  },
  "language_info": {
   "codemirror_mode": {
    "name": "ipython",
    "version": 3
   },
   "file_extension": ".py",
   "mimetype": "text/x-python",
   "name": "python",
   "nbconvert_exporter": "python",
   "pygments_lexer": "ipython3",
   "version": "3.7.4"
  }
 },
 "nbformat": 4,
 "nbformat_minor": 2
}
