{
 "cells": [
  {
   "cell_type": "markdown",
   "metadata": {},
   "source": [
    "# Conceptos Basicos Python\n",
    "\n",
    "* Python es un superlenguaje de programacion interpretado multiparadigma.\n",
    "* Es debilmente tipado y dinamico, es decir, que no es necesario definir el tipo de datos de sus variables.\n",
    "* Python es un lenguaje declarativo, esto significa que sus programas son de facil escritura.\n",
    "\n",
    "## 1. Variables"
   ]
  },
  {
   "cell_type": "code",
   "execution_count": 1,
   "metadata": {},
   "outputs": [
    {
     "name": "stdout",
     "output_type": "stream",
     "text": [
      "94637731128128\n",
      "<class 'int'>\n"
     ]
    }
   ],
   "source": [
    "x1 = 2\n",
    "x2 = \"dos\"\n",
    "x3 = False\n",
    "x3 = 3\n",
    "\n",
    "print(id(x1))       # Imprime la posicion en memoria de la variable\n",
    "print(type(x1))     # Imprime el tipo de la variable"
   ]
  },
  {
   "cell_type": "markdown",
   "metadata": {},
   "source": [
    "## 2. Sintaxis"
   ]
  },
  {
   "cell_type": "code",
   "execution_count": 2,
   "metadata": {},
   "outputs": [
    {
     "name": "stdout",
     "output_type": "stream",
     "text": [
      "Menor\n",
      "Juan\n"
     ]
    }
   ],
   "source": [
    "# Condicionales\n",
    "\n",
    "edad = 9\n",
    "\n",
    "if edad >= 18:\n",
    "    print(\"Mayor\")\n",
    "elif edad < 7:\n",
    "    print(\"Muy menor\")\n",
    "else:\n",
    "    print(\"Menor\")\n",
    "    \n",
    "nombre = \"Juan\"\n",
    "\n",
    "if nombre:\n",
    "    print(nombre)\n",
    "else:\n",
    "    print(\"NN\")\n",
    "    \n",
    "if None:\n",
    "    print(\"Nunca se va a imprimir\")"
   ]
  },
  {
   "cell_type": "code",
   "execution_count": 9,
   "metadata": {},
   "outputs": [
    {
     "name": "stdout",
     "output_type": "stream",
     "text": [
      "No se cumple la condicion\n"
     ]
    }
   ],
   "source": [
    "# Ciclos\n",
    "\n",
    "cadena = \"Hola python\"\n",
    "\n",
    "for i, j in enumerate(cadena):\n",
    "    if j == \"f\":\n",
    "        print(i, j)\n",
    "        break\n",
    "else:\n",
    "    print(\"No se cumple la condicion\")\n",
    "    \n",
    "while not True:\n",
    "    pass"
   ]
  },
  {
   "cell_type": "code",
   "execution_count": 4,
   "metadata": {},
   "outputs": [],
   "source": [
    "# Funciones\n",
    "\n",
    "def saludar(*x):   # *x es una tupla (Lista)\n",
    "    suma = sum(x)\n",
    "    return \"Hola\" + str(suma)"
   ]
  },
  {
   "cell_type": "code",
   "execution_count": 5,
   "metadata": {},
   "outputs": [
    {
     "data": {
      "text/plain": [
       "'Hola5'"
      ]
     },
     "execution_count": 5,
     "metadata": {},
     "output_type": "execute_result"
    }
   ],
   "source": [
    "s = saludar\n",
    "s(2, 3)"
   ]
  },
  {
   "cell_type": "code",
   "execution_count": 6,
   "metadata": {},
   "outputs": [
    {
     "data": {
      "text/plain": [
       "'aHola5'"
      ]
     },
     "execution_count": 6,
     "metadata": {},
     "output_type": "execute_result"
    }
   ],
   "source": [
    "def conFun(x, f):\n",
    "    return x + f(2,3)\n",
    "\n",
    "conFun(\"a\", saludar)"
   ]
  },
  {
   "cell_type": "code",
   "execution_count": 7,
   "metadata": {},
   "outputs": [
    {
     "data": {
      "text/plain": [
       "8"
      ]
     },
     "execution_count": 7,
     "metadata": {},
     "output_type": "execute_result"
    }
   ],
   "source": [
    "# Funciones anonimas\n",
    "\n",
    "v = lambda x, y : x ** y\n",
    "v(2, 3)"
   ]
  },
  {
   "cell_type": "code",
   "execution_count": 8,
   "metadata": {},
   "outputs": [
    {
     "data": {
      "text/plain": [
       "11"
      ]
     },
     "execution_count": 8,
     "metadata": {},
     "output_type": "execute_result"
    }
   ],
   "source": [
    "conFun(3, v)"
   ]
  },
  {
   "cell_type": "markdown",
   "metadata": {},
   "source": [
    "## 3. Colecciones"
   ]
  },
  {
   "cell_type": "code",
   "execution_count": 10,
   "metadata": {},
   "outputs": [
    {
     "name": "stdout",
     "output_type": "stream",
     "text": [
      "2\n",
      "8\n",
      "[1, 2, 3, 5, True, True]\n"
     ]
    }
   ],
   "source": [
    "# Listas (mutables)\n",
    "\n",
    "lista = [1, 2, 3, \"4\", 5, True, not False]\n",
    "\n",
    "lista[3] = 8\n",
    "\n",
    "print(lista[1])\n",
    "print(lista.pop(3))\n",
    "print(lista)"
   ]
  },
  {
   "cell_type": "code",
   "execution_count": 11,
   "metadata": {},
   "outputs": [
    {
     "name": "stdout",
     "output_type": "stream",
     "text": [
      "140264177573152\n",
      "140264177573152\n",
      "140264117702320\n"
     ]
    }
   ],
   "source": [
    "l2 = [1, 2]\n",
    "l3 = l2\n",
    "l4 = l2.copy()\n",
    "\n",
    "print(id(l2))\n",
    "print(id(l3))\n",
    "print(id(l4))"
   ]
  },
  {
   "cell_type": "code",
   "execution_count": 12,
   "metadata": {},
   "outputs": [
    {
     "name": "stdout",
     "output_type": "stream",
     "text": [
      "4\n",
      "(1, 3, 4, 57, 7)\n"
     ]
    }
   ],
   "source": [
    "# Tuplas (inmutables)\n",
    "\n",
    "tupla = (1, 3, 4, 57, 7)\n",
    "\n",
    "# tupla[2] = 2     # No se puede asignar el valor\n",
    "\n",
    "print(tupla[2])\n",
    "print(tupla)"
   ]
  }
 ],
 "metadata": {
  "kernelspec": {
   "display_name": "Python 3",
   "language": "python",
   "name": "python3"
  },
  "language_info": {
   "codemirror_mode": {
    "name": "ipython",
    "version": 3
   },
   "file_extension": ".py",
   "mimetype": "text/x-python",
   "name": "python",
   "nbconvert_exporter": "python",
   "pygments_lexer": "ipython3",
   "version": "3.7.4"
  }
 },
 "nbformat": 4,
 "nbformat_minor": 2
}
