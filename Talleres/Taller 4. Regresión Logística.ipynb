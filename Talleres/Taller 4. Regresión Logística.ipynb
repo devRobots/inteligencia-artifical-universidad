{
 "cells": [
  {
   "cell_type": "markdown",
   "metadata": {},
   "source": [
    "# Regresión Logística"
   ]
  },
  {
   "cell_type": "markdown",
   "metadata": {},
   "source": [
    "### Integrantes\n",
    "* Yesid Shair Rosas Toro\n",
    "* Samara Smith Rincon Montaña\n",
    "* Cristian Camilo Quiceno Laurente"
   ]
  },
  {
   "cell_type": "code",
   "execution_count": 1,
   "metadata": {},
   "outputs": [],
   "source": [
    "import numpy as np\n",
    "import matplotlib.pyplot as plt\n",
    "import scipy.io as sio"
   ]
  },
  {
   "cell_type": "markdown",
   "metadata": {},
   "source": [
    "1- Usando como base el siguiente dataset, desarrolle un sistema de clasificación. Solo debe usar las tres dependencias agregadas como base en el script."
   ]
  },
  {
   "cell_type": "code",
   "execution_count": 5,
   "metadata": {},
   "outputs": [
    {
     "name": "stdout",
     "output_type": "stream",
     "text": [
      "[0 0 0 0 0 0 0 0 0 0 0 0 0 0 0 0 0 0 0 0 0 0 0 0 0 0 0 0 0 0 0 0 0 0 0 0 0\n",
      " 0 0 0 0 0 0 0 0 0 0 0 0 0 1 1 1 1 1 1 1 1 1 1 1 1 1 1 1 1 1 1 1 1 1 1 1 1\n",
      " 1 1 1 1 1 1 1 1 1 1 1 1 1 1 1 1 1 1 1 1 1 1 1 1 1 1 2 2 2 2 2 2 2 2 2 2 2\n",
      " 2 2 2 2 2 2 2 2 2 2 2 2 2 2 2 2 2 2 2 2 2 2 2 2 2 2 2 2 2 2 2 2 2 2 2 2 2\n",
      " 2 2]\n"
     ]
    },
    {
     "data": {
      "image/png": "[encoded data removed]",
      "text/plain": [
       "<Figure size 432x288 with 1 Axes>"
      ]
     },
     "metadata": {
      "needs_background": "light"
     },
     "output_type": "display_data"
    }
   ],
   "source": [
    "# cargar data\n",
    "data = sio.loadmat('Datasets/dataFI.mat')\n",
    "data = np.array(list(data.values()))\n",
    "\n",
    "# se cargan las caracteriticas de las plantas \n",
    "X=data[3]\n",
    "# se cargan las etiquetas.\n",
    "t=data[4]\n",
    "t= np.argmax(t, axis=1)\n",
    "\n",
    "# Clases\n",
    "setosa      = X[0:49,0:2].T\n",
    "versicolour = X[50:99,0:2].T\n",
    "virginica   = X[100:,0:2].T\n",
    "\n",
    "# se grafica una comparación entre las plantas con etiqueta 0 y 1\n",
    "plt.plot(setosa[0], setosa[1],'or')\n",
    "plt.plot(versicolour[0], versicolour[1],'db')\n",
    "plt.plot(virginica[0], virginica[1],'sy')\n",
    "\n",
    "plt.xlabel(\"Sepal length in cm\")\n",
    "plt.ylabel(\"Sepal width in cm\")\n",
    "plt.legend([\"Iris Setosa\",\"Iris Versicolour\",\"Iris Virginica\"])\n",
    "plt.show()"
   ]
  },
  {
   "cell_type": "markdown",
   "metadata": {},
   "source": [
    "2 - Programe cinco funciones (0.8):\n",
    "\n",
    "    - Función de costo para la función sigmoidal.\n",
    "    - Función para calcular el grandiente.\n",
    "    - Función sigmoidal.\n",
    "    - Función de normalización de X.\n",
    "    - Función de exactitud.\n"
   ]
  },
  {
   "cell_type": "code",
   "execution_count": 3,
   "metadata": {},
   "outputs": [],
   "source": [
    "# Revisar\n",
    "def costo(t, tp):\n",
    "    return -t * np.ln(tp) - (1-t) * np.ln(1 - tp)\n",
    "\n",
    "def grad(w, X, y, t, a = 0.0002):\n",
    "    diff = y - t\n",
    "    \n",
    "    for i in range(len(w)):\n",
    "        dp = np.mean(diff @ X.T[i])\n",
    "        w[i] = w[i] - (a * dp)\n",
    "        \n",
    "    return w\n",
    "\n",
    "def sigm(X):\n",
    "    return 1 / (1 + np.exp(-X))\n",
    "\n",
    "def norm(X):\n",
    "    for i in range(1, X.shape[1]):\n",
    "        X[:,i] = (X[:,i] - np.mean(X[:,i])) / np.std(X[:,i])\n",
    "    return X\n",
    "\n",
    "def exact(t, tp):\n",
    "    return 1 - (np.sum(np.abs(t - tp)) / len(t))"
   ]
  },
  {
   "cell_type": "markdown",
   "metadata": {},
   "source": [
    "3- Desarrolle un algoritmo biclase, que use gradiente descendiente para realizar la califiación entre las clases. \n",
    "Recuerde que el gradiente esta dado por la formula:\n",
    "\n",
    "$w_{j} = w_{j} - \\alpha \\Delta$\n",
    "\n",
    "La función desarrollada debería recibir como parámetro $X$ y $t$.\n",
    "La función de error debe ser basada en el error logístico.\n",
    "Debe retornar w, $\\hat{t}$, número de iteración y error obtenido (0.8)."
   ]
  },
  {
   "cell_type": "code",
   "execution_count": 4,
   "metadata": {},
   "outputs": [],
   "source": [
    "def regresion_logistica_biclase(X, t):\n",
    "    X = norm(X)\n",
    "    \n",
    "    m = X.shape[0]\n",
    "    np.random.seed(0)\n",
    "    w = np.random.rand(m)\n",
    "    \n",
    "    y = sigm(X @ w)\n",
    "    p = umbral(y)\n",
    "\n",
    "    error = costo(t, y)\n",
    "    err_relativo = 1\n",
    "\n",
    "    n = 0\n",
    "    while err_relativo > 0.075 and n < 100000:\n",
    "        w = grad(w, X, y, t)\n",
    "        y = sigm(X @ w)\n",
    "        p = umbral(y)\n",
    "        \n",
    "        error = costo(t, y)\n",
    "        err_relativo = error_relativo(err_esperado, error)\n",
    "        n += 1\n",
    "        \n",
    "    return w, p, error, n\n",
    "\n",
    "def umbral(y):\n",
    "    y[y <  .5] = 0\n",
    "    y[y >= .5] = 1\n",
    "    return y\n",
    "\n",
    "def error_relativo(real, aprox):\n",
    "    return abs((real - aprox) / real)"
   ]
  },
  {
   "cell_type": "markdown",
   "metadata": {},
   "source": [
    "4- Programe una función para usar el $holdout$ $method$ aleatorio. La separación del conjunto de pruebas con el de entrenamiento debe ser con base parámetros que digan cuanto porcentaje se desea usar para entrenamiento y cuanto para pruebas (use w para predecir las clases del conjunto de pruebas). Puede usar cómo parámetro por defecto el 60% y 40% respectivamente (0.5). "
   ]
  },
  {
   "cell_type": "code",
   "execution_count": 6,
   "metadata": {},
   "outputs": [],
   "source": [
    "def houldout(X, w, porc_entrenam=0.6):\n",
    "    porc_prueba = 1 - porc_entrenam\n",
    "    \n",
    "    m = len(X[0])\n",
    "    n = len(w)\n",
    "    \n",
    "    Xe = np.ones((m, n * porc_entrenam))\n",
    "    we = np.ones(n * porc_entrenam)\n",
    "    e  = 0\n",
    "    \n",
    "    Xp = np.ones((m, n * porc_prueba))\n",
    "    wp = np.ones(n * porc_prueba)\n",
    "    p  = 0\n",
    "    \n",
    "    for i in range(n):\n",
    "        val = np.random.random()\n",
    "        if val < porc_entrenam:\n",
    "            Xe[:,e] = X[:,i]\n",
    "            we[e] = w[i]\n",
    "            e += 1\n",
    "        else:\n",
    "            Xp[:,p] = X[:,i]\n",
    "            wp[p] = w[i]\n",
    "            p += 1\n",
    "    \n",
    "    return Xe, we, Xp, wp"
   ]
  },
  {
   "cell_type": "markdown",
   "metadata": {},
   "source": [
    "5- Use la clase Iris Setosa e Iris Versicolour para realizar una clasificación biclase. Para este usé el holdout method y determine la exactitud del conjuto de entrenamiento (60%) y el conjunto de prueba (40%). Recuerde normalizar las características (0.7)."
   ]
  },
  {
   "cell_type": "code",
   "execution_count": null,
   "metadata": {},
   "outputs": [],
   "source": [
    "def obtenerX(indice):\n",
    "    pass"
   ]
  },
  {
   "cell_type": "markdown",
   "metadata": {},
   "source": [
    "6- Use la clase Iris Versicolour e Iris Virginica para realizar una clasificación biclase. Para este usé el holdout method y determine la exactitud del conjuto de entrenamiento (60%) y el conjunto de prueba (40%). Recuerde normalizar las características (0.6)."
   ]
  },
  {
   "cell_type": "code",
   "execution_count": null,
   "metadata": {},
   "outputs": [],
   "source": []
  },
  {
   "cell_type": "markdown",
   "metadata": {},
   "source": [
    "7- Use la clase Iris Setosa e Iris Virginica para realizar una clasificación biclase. Para este usé el holdout method y determine la exactitud del conjuto de entrenamiento (60%) y el conjunto de prueba (40%). Recuerde normalizar las características (0.6)."
   ]
  },
  {
   "cell_type": "code",
   "execution_count": null,
   "metadata": {},
   "outputs": [],
   "source": []
  },
  {
   "cell_type": "markdown",
   "metadata": {},
   "source": [
    "8- Ahora realice un entrenamiento uno contra todos usando las tres clases de Iris. Para este usé el holdout method y determine la exactitud del conjuto de entrenamiento (70%) y el conjunto de prueba (30%). Recuerde normalizar las características (1.0)."
   ]
  },
  {
   "cell_type": "code",
   "execution_count": null,
   "metadata": {},
   "outputs": [],
   "source": []
  }
 ],
 "metadata": {
  "kernelspec": {
   "display_name": "Python 3",
   "language": "python",
   "name": "python3"
  },
  "language_info": {
   "codemirror_mode": {
    "name": "ipython",
    "version": 3
   },
   "file_extension": ".py",
   "mimetype": "text/x-python",
   "name": "python",
   "nbconvert_exporter": "python",
   "pygments_lexer": "ipython3",
   "version": "3.7.6"
  }
 },
 "nbformat": 4,
 "nbformat_minor": 2
}
