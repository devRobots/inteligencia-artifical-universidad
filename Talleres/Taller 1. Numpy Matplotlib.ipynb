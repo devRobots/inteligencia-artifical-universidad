{
 "cells": [
  {
   "cell_type": "markdown",
   "metadata": {},
   "source": [
    "# Taller Numpy y Matplotlib"
   ]
  },
  {
   "cell_type": "markdown",
   "metadata": {},
   "source": [
    "## Integrantes\n",
    "\n",
    "* Yesid Rosas Toro\n",
    "* Samara Rincon Montaña\n",
    "* Cristian Camilo Quiceno Laurente"
   ]
  },
  {
   "cell_type": "code",
   "execution_count": 1,
   "metadata": {},
   "outputs": [],
   "source": [
    "import numpy as np\n",
    "from matplotlib import pyplot as plt"
   ]
  },
  {
   "cell_type": "markdown",
   "metadata": {},
   "source": [
    "1 - Realice las siguientes inicializaciones y calculos:\n",
    "\n",
    "a) Inicialice la matriz $A_{1}$ con los siguientes valores:\n",
    "\n",
    "\\begin{bmatrix}\n",
    "12 & -10 & 20 & 44 & 13 \\\\\n",
    "1 & 42 & 3 & 2 & 12 \\\\ \n",
    "12 & -1 & 0 & 42 & 3 \\\\\n",
    "4 & 14 & 2 & 14 & 1\n",
    "\\end{bmatrix}\n",
    "\n",
    "b) Inicialice la matriz $A_{2}$ con los siguientes valores:\n",
    "\n",
    "\\begin{bmatrix}\n",
    "18 & 4 & 62 & 1 & 3 \\\\\n",
    "5 & 12 & 71 & 9 & 1 \\\\ \n",
    "51 & 21 & 8 & 2 & 10 \\\\\n",
    "8 & 41 & 16 & 1 & 6\n",
    "\\end{bmatrix}\n",
    "\n",
    "c) Inicialice la matriz $A_{3}$ con la multiplicación de cada uno de los elementos de la matriz $A_{1}$ con la matriz $A_{2}$.\n",
    "\n",
    "d) $A_{4} = A_{1} \\cdot A_{3}^{T}$\n",
    "\n",
    "e) $A_{5} = A_{2}A_{1}^{T}$\n",
    "\n",
    "f) $A_{6} = (A_{4} + A_{5})A_{1}$\n",
    "\n",
    "Si el programa queda bien implementado, debe obtener una matriz $A_{6} de 3x5 elementos cuyo menor elemento es -354989 y su mayor elemento es 1844956.\n",
    "\n",
    "Obtenga e imprima el valor máximo y mínimo de la matriz (use funciones numpy).\n",
    "\n",
    "Solo imprima el valor final."
   ]
  },
  {
   "cell_type": "code",
   "execution_count": 42,
   "metadata": {},
   "outputs": [
    {
     "name": "stdout",
     "output_type": "stream",
     "text": [
      "-354989 1844956\n"
     ]
    }
   ],
   "source": [
    "# Solución\n",
    "A1 = np.array([[12,-10,20,44,13],[1,42,3,2,12],[12,-1,0,42,3],[4,14,2,14,1]])\n",
    "A2 = np.array([[18,4,62,1,3],[5,12,71,9,1],[51,21,8,2,10],[8,41,16,1,6]])\n",
    "\n",
    "A3 = A1*A2\n",
    "\n",
    "A4 = A1 @ A3.T\n",
    "\n",
    "A5 = A2 @ A1.T\n",
    "\n",
    "A6 = (A4+A5) @ A1\n",
    "\n",
    "print(A6.min(), A6.max())"
   ]
  },
  {
   "cell_type": "markdown",
   "metadata": {},
   "source": [
    "2- Realice las siguientes inicializaciones y calculos:\n",
    "\n",
    "a) Inicialice el vector $a$ con los siguientes valores:\n",
    "\n",
    "\\begin{bmatrix}\n",
    "3 & 2 & 0 & 11\\\\ \n",
    "\\end{bmatrix}\n",
    "\n",
    "b) Inicialice la matriz $B$ con los siguientes valores:\n",
    "\n",
    "\\begin{bmatrix}\n",
    "8 & 3 & 4 & 1\\\\ \n",
    "1 & 3 & 6 & 3\\\\\n",
    "-1 & -2 & -3 & 5\\\\\n",
    "0 & 8 & 6 & 3\n",
    "\\end{bmatrix}\n",
    "\n",
    "\n",
    "c) $c = (a \\cdot B)^{2}$\n",
    "\n",
    "d) Inicialice el vector d con el resultado de dividir cada uno de los elementos de $c$ en 100.\n",
    "\n",
    "e) Obtenga la matriz E de realizar el rpoducto punto entre d y c ($d^{T} \\cdot c$)\n",
    "\n",
    "f) $Z = (E \\cdot d^{T})^{T} / c$ \n",
    "\n",
    "Si el programa queda bien implementado, debe obtener un vector fila 𝑍 de 4 elementos.\n",
    "\n",
    "Devuelva como resultado:\n",
    "\n",
    "- El vector resultante.\n",
    "- La forma del vector resultante."
   ]
  },
  {
   "cell_type": "code",
   "execution_count": 55,
   "metadata": {},
   "outputs": [
    {
     "name": "stdout",
     "output_type": "stream",
     "text": [
      "[[18172.9553 18172.9553 18172.9553 18172.9553]]\n",
      "(1, 4)\n"
     ]
    }
   ],
   "source": [
    "# Solución\n",
    "a = np.array([[3, 2, 0, 11]])\n",
    "B = np.array([[8, 3, 4, 1], [1, 3, 6, 3], [-1, -2, -3, -4], [0, 8, 6, 3]])\n",
    "\n",
    "c = (a @ B) ** 2\n",
    "d = c / 100\n",
    "E = d.T @ c\n",
    "Z = (E @ d.T).T / c\n",
    "\n",
    "print(Z)\n",
    "print(Z.shape)"
   ]
  },
  {
   "cell_type": "markdown",
   "metadata": {},
   "source": [
    "3- Usando Matplotlib construya un programa que grafique la siguiente función variando de 0 a 1:\n",
    "\n",
    "$ y = (x^{3} + 3x^{2} + 2x + 1)/(2x^{3} + cos(x)) $\n",
    "\n",
    "La gráfica debe tener su correspondiente título y las etiquetas de los ejes. Agregue los valores necesarios hasta que convergan los valores de la gráfica."
   ]
  },
  {
   "cell_type": "code",
   "execution_count": 56,
   "metadata": {},
   "outputs": [
    {
     "data": {
      "image/png": "[encoded data removed]",
      "text/plain": [
       "<Figure size 432x288 with 1 Axes>"
      ]
     },
     "metadata": {
      "needs_background": "light"
     },
     "output_type": "display_data"
    }
   ],
   "source": [
    "# Solución\n",
    "\n",
    "x1 = np.linspace(0, 1, 50) \n",
    "y1 = ((x ** 3) + (3 + (x ** 2)) + (2 * x) + 1) / ((2 * (x ** 3)) + (np.cos(x)))\n",
    "\n",
    "plt.title(\"y = (x³+3x²+2x+1)/(2x³+cos(x))\")\n",
    "\n",
    "plt.plot(x1, y1, \"r\")\n",
    "\n",
    "plt.legend([\"Funcion\"])\n",
    "\n",
    "plt.xlabel(\"Eje X\")\n",
    "plt.ylabel(\"Eje Y\")\n",
    "\n",
    "plt.show()"
   ]
  },
  {
   "cell_type": "markdown",
   "metadata": {},
   "source": [
    "4- Elabore un programa que grafique en un plano cartesiano los siguientes datos\n",
    "\n",
    "<table>\n",
    "    <tr>\n",
    "        <td><h3>Edad</h3></td>\n",
    "        <td><h3>salario</h3></td>\n",
    "    </tr>\n",
    "    <tr>\n",
    "        <td>27</td>\n",
    "        <td>8500000</td>\n",
    "    </tr>\n",
    "    <tr>\n",
    "        <td>36</td>\n",
    "        <td>12800000</td>\n",
    "    </tr>\n",
    "    <tr>\n",
    "        <td>23</td>\n",
    "        <td>2600000</td>\n",
    "    </tr>    \n",
    "        <tr>\n",
    "        <td>31</td>\n",
    "        <td>2700000</td>\n",
    "    </tr>\n",
    "    <tr>\n",
    "        <td>45</td>\n",
    "        <td>5700000</td>\n",
    "    </tr>\n",
    "    <tr>\n",
    "        <td>36</td>\n",
    "        <td>2400000</td>\n",
    "    </tr>    \n",
    "    <tr>\n",
    "        <td>20</td>\n",
    "        <td>10500000</td>\n",
    "    </tr>\n",
    "    <tr>\n",
    "        <td>24</td>\n",
    "        <td>4000000</td>\n",
    "    </tr>\n",
    "    <tr>\n",
    "        <td>80</td>\n",
    "        <td>4050000</td>\n",
    "    </tr>    \n",
    "</table>\n",
    "\n",
    "La gráfica debe incluir el título de la figura y el nombre de los ejes."
   ]
  },
  {
   "cell_type": "code",
   "execution_count": 26,
   "metadata": {},
   "outputs": [
    {
     "data": {
      "image/png": "[encoded data removed]",
      "text/plain": [
       "<Figure size 432x288 with 1 Axes>"
      ]
     },
     "metadata": {
      "needs_background": "light"
     },
     "output_type": "display_data"
    }
   ],
   "source": [
    "# Solución\n",
    "\n",
    "edad = np.array([27, 36, 23, 31, 45, 36, 20, 24, 80])\n",
    "salario = np.array([8500000, 12800000, 2600000, 2700000, 5700000, 2400000, 10500000, 4000000, 4050000])\n",
    "\n",
    "fig, axs = plt.subplots()\n",
    "axs.scatter(edad, salario)\n",
    "\n",
    "plt.title(\"Salario VS Edad\")\n",
    "\n",
    "plt.xlabel(\"Edad\")\n",
    "plt.ylabel(\"Salario\")\n",
    "\n",
    "plt.show()"
   ]
  },
  {
   "cell_type": "markdown",
   "metadata": {},
   "source": [
    "5- Elabore una función con las siguientes especificaciones:\n",
    "\n",
    "Parámetros:\n",
    "\n",
    "A: una matriz de mxn\n",
    "\n",
    "B: una matriz de nxm\n",
    "\n",
    "fun: una función anonima que devuelva el producto punto entre dos matrices.\n",
    "\n",
    "Valor a retornar\n",
    "\n",
    "Retornar la matriz $Z$ despues de realizar los siguentes calculos: \n",
    "\n",
    "a) Inicializar la matriz C con el resultado de evaluar la función anonima con las matrices A y B. En el respectivo orden.\n",
    "\n",
    "b) $D = C \\cdot A $\n",
    "\n",
    "c) $E = A + B^{T} + D$\n",
    "\n",
    "d) $Z = E / 10$\n",
    "\n",
    "Puede comprobar el resultado con estos valores.\n",
    "\n",
    "Matriz A= \n",
    "\n",
    "\\begin{bmatrix}\n",
    "2 & 5 & 6\\\\ \n",
    "6 & 3 & 8\\\\\n",
    "3 & 7 & 9\\\\\n",
    "1 & 1 & 1\\\\\n",
    "\\end{bmatrix}\n",
    "\n",
    "Matriz B=\n",
    "\n",
    "\\begin{bmatrix}\n",
    "1 & 6 & 5 & 3\\\\ \n",
    "3 & -1 & -6 & -8\\\\\n",
    "6 & 1 & 7 & 3\\\\\n",
    "\\end{bmatrix}\n",
    "\n",
    "Resultado matriz Z=\n",
    "\n",
    "\\begin{bmatrix}\n",
    "23.7 & 45 & 61.6\\\\ \n",
    "60.6 & 93.4 & 134.5\\\\\n",
    "37.2 & 68.3 & 94.8\\\\\n",
    "7.6 & 10.1 & 16.4\\\\\n",
    "\\end{bmatrix}"
   ]
  },
  {
   "cell_type": "code",
   "execution_count": 39,
   "metadata": {},
   "outputs": [
    {
     "data": {
      "text/plain": [
       "array([[ 23.7,  45. ,  61.6],\n",
       "       [ 60.6,  93.4, 134.5],\n",
       "       [ 37.2,  68.3,  94.8],\n",
       "       [  7.6,  10.1,  16.4]])"
      ]
     },
     "execution_count": 39,
     "metadata": {},
     "output_type": "execute_result"
    }
   ],
   "source": [
    "# Solución\n",
    "\n",
    "def punto5(A, B, fun):\n",
    "    C = fun(A, B)\n",
    "    D = C @ A\n",
    "    E = A + B.T + D\n",
    "    Z = E / 10\n",
    "    return Z\n",
    "\n",
    "M1 = np.array([[2, 5, 6], [6, 3, 8], [3, 7, 9], [1, 1, 1]])\n",
    "M2 = np.array([[1, 6, 5, 3], [3, -1, -6, -8], [6, 1, 7, 3]])\n",
    "f = lambda M_1, M_2 : M_1 @ M_2\n",
    "\n",
    "punto5(M1, M2, f)"
   ]
  },
  {
   "cell_type": "markdown",
   "metadata": {},
   "source": [
    "6- Elabore una función con las siguientes especificaciones.\n",
    "\n",
    "Parámetros\n",
    "\n",
    "A: una matriz de $mxn$\n",
    "\n",
    "Valor a retornar:\n",
    "\n",
    "Matriz con Z calculada mediante los siguientes pasos:\n",
    "\n",
    "a) Inicialice la matriz 𝐵 con una matriz llena de valores iguales al doble de cada elemento de la matriz A y del mismo tamaño de la matriz 𝐴\n",
    "\n",
    "b) Inicialice la matriz 𝐶 con una matriz de unos del mismo tamaño de la matriz 𝐴.\n",
    "\n",
    "c) Inicialice 𝐷 con la matriz que resulta de colocar la matriz A a la derecha de la matriz B.\n",
    "\n",
    "e) Inicialice 𝐸 con la matriz que resulta de colocar la matriz C a la derecha de la matriz A.\n",
    "\n",
    "f) Inicialice la matriz Z con el resultado de poner la matriz E sobre la D\n",
    "\n",
    "Puede comprobar el resultado con estos valores.\n",
    "\n",
    "Matriz A= \n",
    "\n",
    "\\begin{bmatrix}\n",
    "2 & 2 & 2\\\\ \n",
    "2 & 2 & 2\\\\\n",
    "\\end{bmatrix}\n",
    "\n",
    "Resultado matriz Z=\n",
    "\n",
    "\\begin{bmatrix}\n",
    "2 & 2 & 2 & 1 & 1 & 1\\\\ \n",
    "2 & 2 & 2 & 1 & 1 & 1\\\\\n",
    "4 & 4 & 4 & 2 & 2 & 2\\\\\n",
    "4 & 4 & 4 & 2 & 2 & 2\n",
    "\\end{bmatrix}"
   ]
  },
  {
   "cell_type": "code",
   "execution_count": 45,
   "metadata": {},
   "outputs": [
    {
     "data": {
      "text/plain": [
       "array([[2., 2., 2., 1., 1., 1.],\n",
       "       [2., 2., 2., 1., 1., 1.],\n",
       "       [4., 4., 4., 2., 2., 2.],\n",
       "       [4., 4., 4., 2., 2., 2.]])"
      ]
     },
     "execution_count": 45,
     "metadata": {},
     "output_type": "execute_result"
    }
   ],
   "source": [
    "# Solución\n",
    "\n",
    "def punto6(A):\n",
    "    B = A * 2\n",
    "    C = np.ones(A.shape)\n",
    "    D = np.concatenate((B, A), axis=1)\n",
    "    E = np.concatenate((A, C), axis=1)\n",
    "    Z = np.concatenate((E, D))\n",
    "    return Z\n",
    "\n",
    "M = np.ones((2,3)) * 2\n",
    "punto6(M)"
   ]
  }
 ],
 "metadata": {
  "kernelspec": {
   "display_name": "Python 3",
   "language": "python",
   "name": "python3"
  },
  "language_info": {
   "codemirror_mode": {
    "name": "ipython",
    "version": 3
   },
   "file_extension": ".py",
   "mimetype": "text/x-python",
   "name": "python",
   "nbconvert_exporter": "python",
   "pygments_lexer": "ipython3",
   "version": "3.7.6"
  }
 },
 "nbformat": 4,
 "nbformat_minor": 2
}
