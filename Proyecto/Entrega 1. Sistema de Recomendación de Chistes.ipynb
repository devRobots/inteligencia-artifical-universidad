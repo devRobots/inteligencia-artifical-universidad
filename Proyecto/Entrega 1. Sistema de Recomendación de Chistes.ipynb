{
 "cells": [
  {
   "cell_type": "markdown",
   "metadata": {},
   "source": [
    "# Sistema de recomendación de chistes"
   ]
  },
  {
   "cell_type": "code",
   "execution_count": 1,
   "metadata": {},
   "outputs": [],
   "source": [
    "import numpy as np\n",
    "from matplotlib import pyplot as plt\n",
    "import pandas as pd \n",
    "from sklearn.neighbors import NearestNeighbors"
   ]
  },
  {
   "cell_type": "markdown",
   "metadata": {},
   "source": [
    "El objetivo es aplicar todo lo que hemos aprendido hasta el momento, especialmente sobre gradiente descendiente. Para esto desarrollaremos un sistema de recomendación usando factorización de matrices.\n",
    "\n",
    "En esta entrega se darán todos elementos necesarios para desarrollar un sistema de recomendación de chistes, el objetivo es que usted entienda como funciona y desarrolle una solución.\n",
    "\n",
    "Si desea conocer mas sobre el dataset que usaremos puede revisar acá: https://goldberg.berkeley.edu/jester-data/"
   ]
  },
  {
   "cell_type": "markdown",
   "metadata": {},
   "source": [
    "1- Cargue las bases de datos de calificaciones, usuarios y chistes. Puede usar para este objetivo la biblioteca pandas."
   ]
  },
  {
   "cell_type": "code",
   "execution_count": 2,
   "metadata": {},
   "outputs": [],
   "source": [
    "calificaciones = pd.read_csv(\"Datasets/rating.csv\", sep=\";\", usecols=range(1,101))\n",
    "usuarios       = pd.read_csv(\"Datasets/users.csv\",  sep=\";\")\n",
    "chistes        = pd.read_csv(\"Datasets/jokes.csv\",  sep=\"\\n\")"
   ]
  },
  {
   "cell_type": "code",
   "execution_count": 3,
   "metadata": {},
   "outputs": [],
   "source": [
    "def imprimir_usuario(indice):\n",
    "    columnas = usuarios.columns\n",
    "    usuario = usuarios.to_numpy()[indice]\n",
    "    \n",
    "    print(\"\\x1b[1;33m\" + \"Usuario #{}\".format(usuario[0]))\n",
    "    \n",
    "    for i in range(1, len(columnas)):\n",
    "        print(\"\\x1b[1;35m\" + columnas[i].upper() + \"\\x1b[0m\" +\": {}\".format(usuario[i]), end=\"\\t\")\n",
    "        if i == 1:\n",
    "            print(end=\"\\t\")\n",
    "    \n",
    "    print(\"\\n\")\n",
    "    \n",
    "def imprimir_chistes(chistes):\n",
    "    if len(chistes):\n",
    "        print(\"\\x1b[1;32m\" + \"Chistes recomendados:\\n\" + \"\\x1b[0m\")\n",
    "    \n",
    "        for i, chiste in enumerate(chistes):\n",
    "            print(\"\\x1b[1;36m\" + str(1+i) + \". \" + \"\\x1b[0m\" + chiste)\n",
    "            \n",
    "        print(\"\\x1b[1;34m\" + \"\\nRecomendaciones totales: \" + \"\\x1b[0m\" + str(len(chistes)))\n",
    "    else:\n",
    "        print(\"\\x1b[1;31m\" + \"No hay recomendaciones para este usuario\" + \"\\x1b[0m\")\n",
    "        \n",
    "    print(\"\\n\")"
   ]
  },
  {
   "cell_type": "markdown",
   "metadata": {},
   "source": [
    "2- La matriz de calificaciones debe pasar por un proceso para poder se usada en el algoritmo de factorización de matrices. Para esto se debe:\n",
    "    - Redondear los valores de las calificaciones y trabajar solo con valores enteros.\n",
    "    - Cambiar las calificaciones 99 por 0.\n",
    "    - Cambiar el rango de calificaciones de -10 a 10 por 0 a 10.\n",
    "    \n",
    "Recuerde que debe garantizar que la matriz de calificaciones deben ser números enteros."
   ]
  },
  {
   "cell_type": "code",
   "execution_count": 4,
   "metadata": {
    "scrolled": true
   },
   "outputs": [],
   "source": [
    "calificaciones = np.round(calificaciones)\n",
    "calificaciones = np.round((10 + calificaciones)/2)\n",
    "calificaciones[calificaciones > 10] = 0"
   ]
  },
  {
   "cell_type": "markdown",
   "metadata": {},
   "source": [
    "3- Usando el algoritmo de vecinos más cercanos de scikit-learn programe una función que reciba como parámetro las calificaciones de un usuario y la matrix de calificaciones. Usando 20 vecinos devuelva los indices de los vecinos más cercanos al usuario.\n",
    "\n",
    "Link a scikit-learn: https://scikit-learn.org/stable/modules/neighbors.html"
   ]
  },
  {
   "cell_type": "code",
   "execution_count": 5,
   "metadata": {},
   "outputs": [],
   "source": [
    "def indices_cercanos(matriz, fila, n=20):\n",
    "    nbrs = NearestNeighbors(n_neighbors=n, algorithm=\"auto\").fit(matriz)\n",
    "    distancias, indices = nbrs.kneighbors(fila)\n",
    "    return indices[0]\n",
    "\n",
    "def interpretar_indices(matriz, indices):\n",
    "    n = len(indices)\n",
    "    R = list()\n",
    "    \n",
    "    for i in range(n):\n",
    "        R.append(matriz[indices[i]])\n",
    "    \n",
    "    return np.array(R)"
   ]
  },
  {
   "cell_type": "markdown",
   "metadata": {},
   "source": [
    "4- Agregue la función donde se ejecuta el algoritmo de factorización de matrices. Puede basarse en el algoritmo compartido en las dispositivas."
   ]
  },
  {
   "cell_type": "code",
   "execution_count": 51,
   "metadata": {},
   "outputs": [],
   "source": [
    "def factorizacion(R, P, Q, K, steps=7500, alpha=0.0002, beta=0.02, error=0.005):\n",
    "    Q = Q.T\n",
    "    err_relativo = 1\n",
    "    err_anterior = 0\n",
    "    for step in range(steps):\n",
    "        for i in range(len(R)):\n",
    "            for j in range(len(R[i])):\n",
    "                if R[i][j] > 0:\n",
    "                    eij = R[i][j] - P[i,:] @ Q[:,j]\n",
    "                    for k in range(K):\n",
    "                        P[i][k] = P[i][k] + alpha * (2 * eij * Q[k][j] - beta * P[i][k])\n",
    "                        Q[k][j] = Q[k][j] + alpha * (2 * eij * P[i][k] - beta * Q[k][j])\n",
    "                   \n",
    "        err_actual = 0\n",
    "        for i in range(len(R)):\n",
    "            for j in range(len(R[i])):\n",
    "                if R[i][j] > 0:\n",
    "                    err_actual = err_actual + pow(R[i][j] - P[i,:] @ Q[:,j], 2)\n",
    "                    for k in range(K):\n",
    "                        err_actual = err_actual + (beta/2) * (pow(P[i][k],2) + pow(Q[k][j],2))\n",
    "                        \n",
    "        err_relativo = error_relativo(err_actual, err_anterior)\n",
    "        err_anterior = err_actual\n",
    "        \n",
    "        if err_relativo < error:\n",
    "            break\n",
    "    return P, Q.T\n",
    "\n",
    "def error_relativo(actual, anterior):\n",
    "    return abs((actual - anterior) / actual)"
   ]
  },
  {
   "cell_type": "markdown",
   "metadata": {},
   "source": [
    "5- Programe una función para generar $\\hat{R}$. Recuerde que para generar $\\hat{R}$ debe realizar lo siguiente:\n",
    "\n",
    "- Generar R usando el algoritmo de vecinos más cercanos.\n",
    "- Defina K.\n",
    "- Defina P y Q."
   ]
  },
  {
   "cell_type": "code",
   "execution_count": 52,
   "metadata": {},
   "outputs": [],
   "source": [
    "def r(matriz, indice, n=20):\n",
    "    fila = np.array([matriz[indice]])\n",
    "    \n",
    "    indices = indices_cercanos(matriz, fila, n)\n",
    "    R = interpretar_indices(matriz, indices)\n",
    "    \n",
    "    return R\n",
    "\n",
    "def r_prima(R, k):\n",
    "    N = R.shape[0]\n",
    "    M = R.shape[1]\n",
    "\n",
    "    np.random.seed(0)\n",
    "    P = np.random.rand(N,k)\n",
    "    Q = np.random.rand(M,k)\n",
    "    \n",
    "    nP, nQ = factorizacion(R, P, Q, k, alpha=0.005)\n",
    "    nR = nP @ nQ.T\n",
    "    \n",
    "    nR[nR > 10] = 10\n",
    "    nR[nR <  0] = 0\n",
    "    \n",
    "    return np.round(nR)"
   ]
  },
  {
   "cell_type": "markdown",
   "metadata": {},
   "source": [
    "6- Realice recomendaciones para los usuarios: 1, 470, 1241, 3044, 5758, 8105, 8899, 10597, 17391, 19821. Devueva como resultado todos los chistes que tiene una calificaciones de 7 o superior."
   ]
  },
  {
   "cell_type": "code",
   "execution_count": 46,
   "metadata": {},
   "outputs": [],
   "source": [
    "def sugerir(usuario, prediccion, cond):\n",
    "    recomendaciones = list()\n",
    "    \n",
    "    for i in range(len(usuario)):\n",
    "        if cond(prediccion[i]):\n",
    "            recomendaciones.append(i)\n",
    "                    \n",
    "    return recomendaciones\n",
    "\n",
    "def sugerir_otros(usuario, nR, cond):\n",
    "    recomendaciones = list()\n",
    "    \n",
    "    for elemento in range(len(usuario)):\n",
    "        if usuario[elemento] == 0:\n",
    "            for vecino in range(len(nR)):\n",
    "                if cond(nR[vecino][elemento]) and not elemento in recomendaciones:\n",
    "                    recomendaciones.append(elemento)\n",
    "                    \n",
    "    return recomendaciones\n",
    "\n",
    "def recomendar_chistes(R, condicion, k=10):\n",
    "    nR = r_prima(R, k)\n",
    "    \n",
    "    recomendaciones = sugerir(R[0], nR[0], condicion)\n",
    "    \n",
    "    print(str(recomendaciones) + \"\\n\")\n",
    "    print(str(len(recomendaciones)) + \"\\n\")\n",
    "    \n",
    "    chistes_recomendados = interpretar_indices(chistes.to_numpy().T[0], recomendaciones)\n",
    "    \n",
    "    return chistes_recomendados\n",
    "\n",
    "def recomendar_chistes_por_calificacion(usuario, k=10):\n",
    "    R = r(calificaciones.to_numpy(), usuario)\n",
    "    \n",
    "    condicion = lambda calificacion: calificacion >= 7\n",
    "    \n",
    "    recomendacion = recomendar_chistes(R, condicion, k)\n",
    "    return recomendacion"
   ]
  },
  {
   "cell_type": "code",
   "execution_count": 53,
   "metadata": {
    "scrolled": false
   },
   "outputs": [
    {
     "name": "stdout",
     "output_type": "stream",
     "text": [
      "\u001b[1;33mUsuario #2\n",
      "\u001b[1;35mAGE\u001b[0m: 73\t\t\u001b[1;35mGENDER\u001b[0m: female\t\u001b[1;35mCOUNTRY\u001b[0m: U.S\t\u001b[1;35mLANGUAJE\u001b[0m: English\t\u001b[1;35mCATEGORY\u001b[0m: Adventure\t\n",
      "\n",
      "[0, 2, 3, 8, 9, 10, 11, 12, 13, 14, 16, 21, 22, 23, 25, 26, 29, 30, 32, 33, 36, 39, 40, 42, 43, 49, 51, 56, 59, 63, 64, 66, 69, 72, 73, 74, 75, 76, 77, 78, 79, 80, 81, 82, 83, 84, 85, 87, 88, 93]\n",
      "\n",
      "50\n",
      "\n",
      "\u001b[1;33mUsuario #471\n",
      "\u001b[1;35mAGE\u001b[0m: 52\t\t\u001b[1;35mGENDER\u001b[0m: other\t\u001b[1;35mCOUNTRY\u001b[0m: Colombia\t\u001b[1;35mLANGUAJE\u001b[0m: French\t\u001b[1;35mCATEGORY\u001b[0m: Comedy\t\n",
      "\n",
      "[1, 3, 4, 5, 9, 11, 23, 26, 27, 28, 31, 33, 34, 35, 37, 42, 46, 48, 49, 52, 53, 54, 55, 57, 60, 61, 62, 64, 65, 67, 68, 69, 78, 84, 87, 88, 89, 90, 91]\n",
      "\n",
      "39\n",
      "\n",
      "\u001b[1;33mUsuario #1242\n",
      "\u001b[1;35mAGE\u001b[0m: 14\t\t\u001b[1;35mGENDER\u001b[0m: female\t\u001b[1;35mCOUNTRY\u001b[0m: Japan\t\u001b[1;35mLANGUAJE\u001b[0m: Spanish\t\u001b[1;35mCATEGORY\u001b[0m: Animation\t\n",
      "\n",
      "[8, 12, 15, 17, 26, 28, 31, 33, 34, 35, 36, 38, 41, 45, 49, 55, 56, 57, 60, 67, 71, 78, 90, 91, 92, 94, 95, 96, 98, 99]\n",
      "\n",
      "30\n",
      "\n",
      "\u001b[1;33mUsuario #3045\n",
      "\u001b[1;35mAGE\u001b[0m: 31\t\t\u001b[1;35mGENDER\u001b[0m: female\t\u001b[1;35mCOUNTRY\u001b[0m: Spain\t\u001b[1;35mLANGUAJE\u001b[0m: Spanish\t\u001b[1;35mCATEGORY\u001b[0m: Comedy\t\n",
      "\n",
      "[26, 27, 30, 31, 33, 34, 46, 47, 48, 49, 53, 55, 60, 61, 64, 65, 67, 68, 71, 72, 88, 98]\n",
      "\n",
      "22\n",
      "\n",
      "\u001b[1;33mUsuario #5759\n",
      "\u001b[1;35mAGE\u001b[0m: 46\t\t\u001b[1;35mGENDER\u001b[0m: female\t\u001b[1;35mCOUNTRY\u001b[0m: Russia\t\u001b[1;35mLANGUAJE\u001b[0m: English\t\u001b[1;35mCATEGORY\u001b[0m: ScienceFiction\t\n",
      "\n",
      "[0, 1, 2, 4, 6, 8, 9, 20, 27, 28, 30, 31, 34, 41, 47, 48, 49, 51, 52, 53, 54, 59, 60, 61, 67, 70, 84, 86, 88, 91, 99]\n",
      "\n",
      "31\n",
      "\n",
      "\u001b[1;33mUsuario #8106\n",
      "\u001b[1;35mAGE\u001b[0m: 33\t\t\u001b[1;35mGENDER\u001b[0m: male\t\u001b[1;35mCOUNTRY\u001b[0m: Canada\t\u001b[1;35mLANGUAJE\u001b[0m: English\t\u001b[1;35mCATEGORY\u001b[0m: Adventure\t\n",
      "\n",
      "[0, 1, 2, 3, 4, 7, 8, 9, 10, 11, 13, 15, 16, 21, 22, 24, 26, 27, 28, 30, 32, 33, 34, 35, 37, 38, 39, 40, 41, 42, 43, 44, 45, 46, 47, 50, 51, 52, 53, 55, 58, 59, 62, 63, 64, 65, 67, 68, 69, 80, 83, 84, 86, 89, 90, 95, 96, 97, 98, 99]\n",
      "\n",
      "60\n",
      "\n",
      "\u001b[1;33mUsuario #8900\n",
      "\u001b[1;35mAGE\u001b[0m: 16\t\t\u001b[1;35mGENDER\u001b[0m: male\t\u001b[1;35mCOUNTRY\u001b[0m: Canada\t\u001b[1;35mLANGUAJE\u001b[0m: English\t\u001b[1;35mCATEGORY\u001b[0m: Comedy\t\n",
      "\n",
      "[53, 59, 60, 81, 84, 85, 86, 87, 88, 93, 94]\n",
      "\n",
      "11\n",
      "\n",
      "\u001b[1;33mUsuario #10598\n",
      "\u001b[1;35mAGE\u001b[0m: 76\t\t\u001b[1;35mGENDER\u001b[0m: male\t\u001b[1;35mCOUNTRY\u001b[0m: Russia\t\u001b[1;35mLANGUAJE\u001b[0m: English\t\u001b[1;35mCATEGORY\u001b[0m: Animation\t\n",
      "\n",
      "[0, 1, 6, 8, 9, 27, 32, 35, 48, 49, 55, 56, 59, 62, 67, 74, 81, 85, 88, 93, 94, 95, 96]\n",
      "\n",
      "23\n",
      "\n",
      "\u001b[1;33mUsuario #17392\n",
      "\u001b[1;35mAGE\u001b[0m: 14\t\t\u001b[1;35mGENDER\u001b[0m: male\t\u001b[1;35mCOUNTRY\u001b[0m: Argentina\t\u001b[1;35mLANGUAJE\u001b[0m: Spanish\t\u001b[1;35mCATEGORY\u001b[0m: Animation\t\n",
      "\n",
      "[1, 4, 7, 14, 17, 30, 35, 36, 37, 40, 44, 49, 53, 67, 96]\n",
      "\n",
      "15\n",
      "\n",
      "\u001b[1;33mUsuario #19822\n",
      "\u001b[1;35mAGE\u001b[0m: 47\t\t\u001b[1;35mGENDER\u001b[0m: male\t\u001b[1;35mCOUNTRY\u001b[0m: Argentina\t\u001b[1;35mLANGUAJE\u001b[0m: Italian\t\u001b[1;35mCATEGORY\u001b[0m: Comedy\t\n",
      "\n",
      "[3, 26, 27, 31, 44, 49, 52, 61, 74, 80]\n",
      "\n",
      "10\n",
      "\n"
     ]
    }
   ],
   "source": [
    "k = 20\n",
    "lista_usuarios = [1, 470, 1241, 3044, 5758, 8105, 8899, 10597, 17391, 19821]\n",
    "\n",
    "for usuario in lista_usuarios:\n",
    "    imprimir_usuario(usuario)\n",
    "    recomendaciones = recomendar_chistes_por_calificacion(usuario, k)\n",
    "    #chistes.to_numpy().T[0]imprimir_chistes(recomendaciones)"
   ]
  },
  {
   "cell_type": "markdown",
   "metadata": {},
   "source": [
    "7- Programe un algoritmo para realizar recomendaciones a usuarios con base en la informacion básica en el dataset usuarios. Use el algortimo de vecinos más cercanos y el algoritmo de factorización de matrices para este objetivo."
   ]
  },
  {
   "cell_type": "code",
   "execution_count": 49,
   "metadata": {},
   "outputs": [],
   "source": [
    "def procesar_tabla(tabla):\n",
    "    matriz = tabla.to_numpy().T\n",
    "    \n",
    "    for columna in range(len(matriz)):\n",
    "        tipos = list()\n",
    "        \n",
    "        for fila in range(len(matriz[columna])):\n",
    "            dato = matriz[columna][fila]\n",
    "            \n",
    "            if isinstance(dato, str):\n",
    "                if not dato in tipos:\n",
    "                    tipos.append(dato)\n",
    "                matriz[columna][fila] = tipos.index(dato)\n",
    "            else:\n",
    "                break\n",
    "    \n",
    "    return matriz.T\n",
    "\n",
    "def recomendar_chistes_por_usuario(usuario, k=10):\n",
    "    matriz_usuarios = procesar_tabla(usuarios)[:,1:]\n",
    "    similares = indices_cercanos(matriz_usuarios, [matriz_usuarios[usuario]])\n",
    "    R = interpretar_indices(calificaciones.to_numpy(), similares)\n",
    "    \n",
    "    condicion = lambda calificacion: calificacion >= 7\n",
    "    \n",
    "    recomendacion = recomendar_chistes(R, condicion, k)\n",
    "    return recomendacion"
   ]
  },
  {
   "cell_type": "code",
   "execution_count": 50,
   "metadata": {},
   "outputs": [
    {
     "name": "stdout",
     "output_type": "stream",
     "text": [
      "\u001b[1;33mUsuario #2\n",
      "\u001b[1;35mAGE\u001b[0m: 73\t\t\u001b[1;35mGENDER\u001b[0m: female\t\u001b[1;35mCOUNTRY\u001b[0m: U.S\t\u001b[1;35mLANGUAJE\u001b[0m: English\t\u001b[1;35mCATEGORY\u001b[0m: Adventure\t\n",
      "\n",
      "[0, 2, 5, 8, 10, 11, 12, 13, 20, 26, 27, 28, 30, 31, 33, 34, 35, 39, 40, 42, 45, 47, 48, 49, 51, 52, 53, 55, 59, 61, 64, 65, 67, 68, 71, 72, 73, 75, 76, 77, 78, 79, 80, 82, 83, 84, 87, 88, 89, 92, 93, 99]\n",
      "\n",
      "52\n",
      "\n",
      "\u001b[1;33mUsuario #471\n",
      "\u001b[1;35mAGE\u001b[0m: 52\t\t\u001b[1;35mGENDER\u001b[0m: other\t\u001b[1;35mCOUNTRY\u001b[0m: Colombia\t\u001b[1;35mLANGUAJE\u001b[0m: French\t\u001b[1;35mCATEGORY\u001b[0m: Comedy\t\n",
      "\n",
      "[1, 2, 8, 9, 11, 20, 26, 27, 28, 30, 31, 34, 35, 42, 47, 48, 49, 52, 53, 54, 55, 61, 64, 65, 67, 68, 70, 71, 75, 77, 83, 86, 87, 88, 93, 95]\n",
      "\n",
      "36\n",
      "\n",
      "\u001b[1;33mUsuario #1242\n",
      "\u001b[1;35mAGE\u001b[0m: 14\t\t\u001b[1;35mGENDER\u001b[0m: female\t\u001b[1;35mCOUNTRY\u001b[0m: Japan\t\u001b[1;35mLANGUAJE\u001b[0m: Spanish\t\u001b[1;35mCATEGORY\u001b[0m: Animation\t\n",
      "\n",
      "[2, 20, 26, 27, 28, 31, 33, 34, 47, 49, 52, 57, 61, 64, 65, 67, 68, 88, 90, 92, 93]\n",
      "\n",
      "21\n",
      "\n",
      "\u001b[1;33mUsuario #3045\n",
      "\u001b[1;35mAGE\u001b[0m: 31\t\t\u001b[1;35mGENDER\u001b[0m: female\t\u001b[1;35mCOUNTRY\u001b[0m: Spain\t\u001b[1;35mLANGUAJE\u001b[0m: Spanish\t\u001b[1;35mCATEGORY\u001b[0m: Comedy\t\n",
      "\n",
      "[26, 31, 34, 47, 49, 53, 67, 88]\n",
      "\n",
      "8\n",
      "\n",
      "\u001b[1;33mUsuario #5759\n",
      "\u001b[1;35mAGE\u001b[0m: 46\t\t\u001b[1;35mGENDER\u001b[0m: female\t\u001b[1;35mCOUNTRY\u001b[0m: Russia\t\u001b[1;35mLANGUAJE\u001b[0m: English\t\u001b[1;35mCATEGORY\u001b[0m: ScienceFiction\t\n",
      "\n",
      "[2, 8, 9, 10, 20, 28, 30, 31, 34, 39, 49, 52, 53, 61, 64, 65, 68, 88]\n",
      "\n",
      "18\n",
      "\n",
      "\u001b[1;33mUsuario #8106\n",
      "\u001b[1;35mAGE\u001b[0m: 33\t\t\u001b[1;35mGENDER\u001b[0m: male\t\u001b[1;35mCOUNTRY\u001b[0m: Canada\t\u001b[1;35mLANGUAJE\u001b[0m: English\t\u001b[1;35mCATEGORY\u001b[0m: Adventure\t\n",
      "\n",
      "[34]\n",
      "\n",
      "1\n",
      "\n",
      "\u001b[1;33mUsuario #8900\n",
      "\u001b[1;35mAGE\u001b[0m: 16\t\t\u001b[1;35mGENDER\u001b[0m: male\t\u001b[1;35mCOUNTRY\u001b[0m: Canada\t\u001b[1;35mLANGUAJE\u001b[0m: English\t\u001b[1;35mCATEGORY\u001b[0m: Comedy\t\n",
      "\n",
      "[64, 88]\n",
      "\n",
      "2\n",
      "\n",
      "\u001b[1;33mUsuario #10598\n",
      "\u001b[1;35mAGE\u001b[0m: 76\t\t\u001b[1;35mGENDER\u001b[0m: male\t\u001b[1;35mCOUNTRY\u001b[0m: Russia\t\u001b[1;35mLANGUAJE\u001b[0m: English\t\u001b[1;35mCATEGORY\u001b[0m: Animation\t\n",
      "\n",
      "[88]\n",
      "\n",
      "1\n",
      "\n",
      "\u001b[1;33mUsuario #17392\n",
      "\u001b[1;35mAGE\u001b[0m: 14\t\t\u001b[1;35mGENDER\u001b[0m: male\t\u001b[1;35mCOUNTRY\u001b[0m: Argentina\t\u001b[1;35mLANGUAJE\u001b[0m: Spanish\t\u001b[1;35mCATEGORY\u001b[0m: Animation\t\n",
      "\n",
      "[53]\n",
      "\n",
      "1\n",
      "\n",
      "\u001b[1;33mUsuario #19822\n",
      "\u001b[1;35mAGE\u001b[0m: 47\t\t\u001b[1;35mGENDER\u001b[0m: male\t\u001b[1;35mCOUNTRY\u001b[0m: Argentina\t\u001b[1;35mLANGUAJE\u001b[0m: Italian\t\u001b[1;35mCATEGORY\u001b[0m: Comedy\t\n",
      "\n",
      "[52, 68]\n",
      "\n",
      "2\n",
      "\n"
     ]
    }
   ],
   "source": [
    "k = 20\n",
    "lista_usuarios = [1, 470, 1241, 3044, 5758, 8105, 8899, 10597, 17391, 19821]\n",
    "\n",
    "for usuario in lista_usuarios:\n",
    "    imprimir_usuario(usuario)\n",
    "    recomendaciones = recomendar_chistes_por_usuario(usuario, k)\n",
    "    #imprimir_chistes(recomendaciones)"
   ]
  },
  {
   "cell_type": "code",
   "execution_count": null,
   "metadata": {},
   "outputs": [],
   "source": []
  }
 ],
 "metadata": {
  "kernelspec": {
   "display_name": "Python 3",
   "language": "python",
   "name": "python3"
  },
  "language_info": {
   "codemirror_mode": {
    "name": "ipython",
    "version": 3
   },
   "file_extension": ".py",
   "mimetype": "text/x-python",
   "name": "python",
   "nbconvert_exporter": "python",
   "pygments_lexer": "ipython3",
   "version": "3.7.4"
  }
 },
 "nbformat": 4,
 "nbformat_minor": 2
}
