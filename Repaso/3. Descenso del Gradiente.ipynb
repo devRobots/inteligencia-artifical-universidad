{
 "cells": [
  {
   "cell_type": "markdown",
   "metadata": {},
   "source": [
    "[![IA NOTEBOOK #3 | Descenso del Gradiente (Gradient Descent) | Programando IA](https://img.youtube.com/vi/-_A_AAxqzCg/maxresdefault.jpg)](https://youtu.be/w2RJ1D6kz-o \"IA NOTEBOOK #3 | Descenso del Gradiente (Gradient Descent) | Programando IA\")\n",
    "\n",
    "# Descenso del Gradiente\n",
    "\n",
    "* **Autor:** Carlos Santana Vega\n",
    "* **Co-Autor:** Yesid Rosas Toro\n",
    "\n",
    "En esta guia vamos a programar el Descenso del Gradiente. Este es fundamental tanto para estadísticas como para Machine Learning, y además su estimación es muy sencilla. \n",
    "\n",
    "Para entender mejor lo que se quiere desarrollar es aconsejable mirar primero el video de [**Introduccion al tema**](https://youtu.be/A6FiCDoz8_4). Donde se estudiaran los conceptos basicos del gradiente descendente, asi como el ejemplo que aplicaremos a continuacion."
   ]
  },
  {
   "cell_type": "code",
   "execution_count": 2,
   "metadata": {},
   "outputs": [],
   "source": [
    "import numpy as np\n",
    "\n",
    "from matplotlib import pyplot as plt"
   ]
  },
  {
   "cell_type": "code",
   "execution_count": null,
   "metadata": {},
   "outputs": [],
   "source": []
  }
 ],
 "metadata": {
  "kernelspec": {
   "display_name": "Python 3",
   "language": "python",
   "name": "python3"
  },
  "language_info": {
   "codemirror_mode": {
    "name": "ipython",
    "version": 3
   },
   "file_extension": ".py",
   "mimetype": "text/x-python",
   "name": "python",
   "nbconvert_exporter": "python",
   "pygments_lexer": "ipython3",
   "version": "3.7.4"
  }
 },
 "nbformat": 4,
 "nbformat_minor": 2
}
